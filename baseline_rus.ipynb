{
 "cells": [
  {
   "cell_type": "markdown",
   "id": "59d470cd-bafb-4deb-afd6-308c6ca5bfa1",
   "metadata": {},
   "source": [
    "# Бейзлайн для задачи AIJ Multi-Agent AI\n",
    "\n",
    "Данный ноутбук содержит реализацию [VDN](https://arxiv.org/abs/1706.05296) - кооперативного \n",
    "мульти-агентного алгоритма обучения с подкреплением. VDN основан на предпосылке\n",
    "о линейном разложении общей награды агентов, таким образом, общая награда\n",
    "всех агентов представлена в виде суммы индивидуальных наград.\n",
    "Несмотря на то, что данная предпосылка ограничивает класс обучаемых стратегий\n",
    "только кооперативными вариантами, VDN все же является хорошим бейзлайном для \n",
    "многих задач мульти-агентного обучения с подкреплением.\n",
    "\n",
    "Данный бейзлайн позволяет получить целевую метрику (Mean Focal Score) около\n",
    "42 при ее сабмите в тестовую систему (Случайная политика, для сравнения, \n",
    "получает ~4).\n",
    "\n",
    "Главным результатом работы ноутбука будет создание директории `submission_vdn`, которую \n",
    "необходимо запаковать в .zip архив и отправить в тестирующую систему.\n",
    "\n",
    "Мы рекомендуем запускать тесты на своих решениях, прежде чем отправлять их в систему."
   ]
  },
  {
   "cell_type": "code",
   "execution_count": 1,
   "id": "540e3da2-d295-4cbf-bf84-958775212576",
   "metadata": {},
   "outputs": [],
   "source": [
    "import os\n",
    "from typing import Any, Dict, List, Optional, Union\n",
    "\n",
    "import matplotlib.pyplot as plt\n",
    "import numpy as np\n",
    "import torch\n",
    "import torch.nn.functional as F\n",
    "import yaml\n",
    "from aij_multiagent_rl.agents import BaseAgent, RandomAgent\n",
    "from aij_multiagent_rl.env import AijMultiagentEnv\n",
    "from math import ceil\n",
    "from omegaconf import DictConfig\n",
    "from torch import nn, optim\n",
    "from torch.utils.data import DataLoader, Dataset\n",
    "from tqdm import tqdm"
   ]
  },
  {
   "cell_type": "markdown",
   "id": "e2befe9b-345d-4a4c-9bd6-4793ee92edbe",
   "metadata": {},
   "source": [
    "# Создаем корректную структуру сабмишена\n",
    "\n",
    "\n",
    "Правильная структура директории решения представлена ниже:\n",
    "\n",
    "```\n",
    ".\n",
    "├── utils                          # Директория с модулями, необходимыми для класса агента (опционально)\n",
    "├── model.py                       # Скрипт с реализацией класса агента(ов) и фабричного метода\n",
    "└── agents                         # Директория с артефактами агентов (название фисировано) \n",
    "    ├── agent_0                    # Артефакты отдельного агента (название произвольное)\n",
    "        ├── agent_config.yaml      # Конфиг агента для фабричного метода (название фиксировано)\n",
    "        └── weights_agent_0.pth    # Пример артефакта (веса модели или любые произвольные файлы)\n",
    "    ...                            # Агентов может быть и больше 8\n",
    "    └── agent_n\n",
    "        ├── agent_config.yaml    \n",
    "        └── weights_agent_n.pth\n",
    "```"
   ]
  },
  {
   "cell_type": "code",
   "execution_count": 2,
   "id": "1a5a8339-d291-439e-9cec-31df504e5b7c",
   "metadata": {},
   "outputs": [],
   "source": [
    "submission_dir = 'submission_vdn'\n",
    "\n",
    "required_dirs = [\n",
    "    f'{submission_dir}/agents',\n",
    "    f'{submission_dir}/utils'\n",
    "]\n",
    "for d in required_dirs:\n",
    "    if not os.path.exists(d):\n",
    "        os.makedirs(d)"
   ]
  },
  {
   "cell_type": "markdown",
   "id": "ca9bef21-890a-472a-ac81-b67808df4f26",
   "metadata": {},
   "source": [
    "# Вспомогательные функции для Torch\n",
    "\n",
    "Данные вспомогательные функции будут записаны в файл `submission_vdn/utils/utils.py`."
   ]
  },
  {
   "cell_type": "code",
   "execution_count": 3,
   "id": "35a13f61-ef4c-420c-982f-ab29a0c93db7",
   "metadata": {},
   "outputs": [
    {
     "name": "stdout",
     "output_type": "stream",
     "text": [
      "Writing submission_vdn/utils/utils.py\n"
     ]
    }
   ],
   "source": [
    "%%writefile submission_vdn/utils/utils.py\n",
    "import torch\n",
    "import numpy as np\n",
    "\n",
    "\n",
    "def from_numpy(device, array, dtype=np.float32):\n",
    "    array = array.astype(dtype)\n",
    "    tensor = torch.from_numpy(array)\n",
    "    return tensor.to(device)\n",
    "\n",
    "\n",
    "def to_numpy(tensor):\n",
    "    return tensor.to('cpu').detach().numpy()\n",
    "\n",
    "\n",
    "def get_device() -> torch.device:\n",
    "    if torch.cuda.is_available():\n",
    "        return torch.device('cuda')\n",
    "    else:\n",
    "        return torch.device('cpu')"
   ]
  },
  {
   "cell_type": "markdown",
   "id": "c73ca2ea-f354-4257-b9d1-c5b8b2439da1",
   "metadata": {},
   "source": [
    "# Функция сэмплирования из среды\n",
    "\n",
    "Далее реализован параллельный сэмплинг данных из среды `AijMultiagentEnv` при помощи нескольких агентов. В ходе работы функции вызываются следующие методы:\n",
    "\n",
    "1) `reset_state()` - перезагрузка внутреннего состояния агента с началом эпизода\n",
    "2) `get_action()` - получение действия из композитного наблюдения"
   ]
  },
  {
   "cell_type": "code",
   "execution_count": 4,
   "id": "6135793a-8b3f-4b37-b981-a65ef2a35f2e",
   "metadata": {},
   "outputs": [],
   "source": [
    "def sample_rollouts(\n",
    "    n_rollouts: int,\n",
    "    env: AijMultiagentEnv,\n",
    "    agents: Dict[str, BaseAgent],\n",
    "    verbose: Optional[bool] = False\n",
    ") -> List[List[Dict[str, Any]]]:\n",
    "    rollouts = []\n",
    "    for _ in tqdm(range(n_rollouts), disable=not verbose):\n",
    "        rollout = []\n",
    "        for agent in agents.values():\n",
    "            agent.reset_state()\n",
    "        observations, infos = env.reset()\n",
    "        done = False\n",
    "        while not done:\n",
    "            actions = {name: agent.get_action(observation=observations[name])\n",
    "                       for name, agent in agents.items() if name in env.agents}\n",
    "            next_observations, rewards, terminations, truncations, next_infos = env.step(actions)\n",
    "            transition = {\n",
    "                'observations': observations,\n",
    "                'next_observations': next_observations,\n",
    "                'actions': actions,\n",
    "                'rewards': rewards,\n",
    "                'terminations': terminations,\n",
    "                'truncations': truncations\n",
    "            }\n",
    "            observations = next_observations\n",
    "            done = all(truncations.values()) or all(terminations.values())\n",
    "            rollout.append(transition)\n",
    "        rollouts.append(rollout)\n",
    "    return rollouts"
   ]
  },
  {
   "cell_type": "markdown",
   "id": "8ad3f13a-b8aa-4be0-910b-16dbdbb77b21",
   "metadata": {},
   "source": [
    "# Сэмплирование эпизодов при помощи случайных агентов"
   ]
  },
  {
   "cell_type": "code",
   "execution_count": 5,
   "id": "a95b3385-5b28-4c86-8dff-53db8ccd3584",
   "metadata": {},
   "outputs": [
    {
     "name": "stderr",
     "output_type": "stream",
     "text": [
      "100%|███████████████████████████████████████████| 10/10 [00:23<00:00,  2.33s/it]"
     ]
    },
    {
     "name": "stdout",
     "output_type": "stream",
     "text": [
      "Mean agent return for RandomAgent: 5.75\n"
     ]
    },
    {
     "name": "stderr",
     "output_type": "stream",
     "text": [
      "\n"
     ]
    }
   ],
   "source": [
    "def get_mean_agent_return(batch):\n",
    "    mean_rews = []\n",
    "    for path in batch:\n",
    "        ep_tot_rew = [sum(t['rewards'].values()) for t in path]\n",
    "        ep_tot_rew = sum(ep_tot_rew)\n",
    "        mean_rews.append(ep_tot_rew / 8)\n",
    "    return np.mean(mean_rews)\n",
    "\n",
    "\n",
    "env = AijMultiagentEnv()\n",
    "example_agents = {a: RandomAgent() for a in env.possible_agents}\n",
    "example_batch = sample_rollouts(n_rollouts=10, env=env, agents=example_agents, verbose=True)\n",
    "print(f'Mean agent return for RandomAgent: {get_mean_agent_return(example_batch)}')"
   ]
  },
  {
   "cell_type": "markdown",
   "id": "b1d7ea70-ac5f-4149-a62d-e39b6b7c2f46",
   "metadata": {},
   "source": [
    "# Создаем буфер данных\n",
    "\n",
    "Создаем простой буфер данных для хранения эпизодов симуляции"
   ]
  },
  {
   "cell_type": "code",
   "execution_count": 6,
   "id": "6f7656bf-27bc-4b54-922c-62a98364e5bd",
   "metadata": {},
   "outputs": [],
   "source": [
    "class ReplayBuffer(Dataset):\n",
    "\n",
    "    def __init__(\n",
    "        self,\n",
    "        n_transitions: int\n",
    "    ):\n",
    "        self.rollouts = []\n",
    "        self.n_transitions = n_transitions\n",
    "        self.lengths = None\n",
    "\n",
    "    def add_batch(self, rollouts):\n",
    "        self.rollouts.extend(rollouts)\n",
    "        self._evict()\n",
    "        self.lengths = [len(r) for r in self.rollouts]\n",
    "\n",
    "    def _evict(self) -> None:\n",
    "        while len(self) > self.n_transitions:\n",
    "            self.rollouts.pop(0)\n",
    "\n",
    "    def __len__(self):\n",
    "        if len(self.rollouts) == 0:\n",
    "            return 0\n",
    "        else:\n",
    "            return sum([len(r) for r in self.rollouts])\n",
    "\n",
    "    def __getitem__(self, idx: int) -> Dict[str, Dict[str, Union[np.ndarray, int]]]:\n",
    "        c_lengths = np.cumsum(self.lengths)\n",
    "        r_ind = np.argwhere(c_lengths > idx).min()\n",
    "        r_ind_last = 0\n",
    "        if r_ind > 0:\n",
    "            r_ind_last = c_lengths[r_ind - 1]\n",
    "        t_ind = idx - r_ind_last\n",
    "        transition = self.rollouts[r_ind][t_ind]\n",
    "        item = {\n",
    "            **transition,\n",
    "            'rollout_index': r_ind,\n",
    "            'transition_index': t_ind\n",
    "        }\n",
    "        return item"
   ]
  },
  {
   "cell_type": "code",
   "execution_count": 7,
   "id": "fbe9ad9d-6e45-4ede-b600-f7417bc60cf8",
   "metadata": {},
   "outputs": [],
   "source": [
    "def collate_fn(data: List[Dict[str, Any]]) -> Dict[str, Any]:\n",
    "    collated_data = {k: {} for k in data[0].keys()}\n",
    "    for a in data[0]['observations'].keys():\n",
    "        collated_data['observations'][a] = {}\n",
    "        collated_data['observations'][a]['image'] = np.array(\n",
    "            [d['observations'][a]['image'] for d in data])\n",
    "        collated_data['observations'][a]['proprio'] = np.array(\n",
    "            [d['observations'][a]['proprio'] for d in data])\n",
    "        collated_data['next_observations'][a] = {}\n",
    "        collated_data['next_observations'][a]['image'] = np.array(\n",
    "            [d['next_observations'][a]['image'] for d in data])\n",
    "        collated_data['next_observations'][a]['proprio'] = np.array(\n",
    "            [d['next_observations'][a]['proprio'] for d in data])\n",
    "        collated_data['actions'][a] = np.array([d['actions'][a] for d in data])\n",
    "        collated_data['rewards'][a] = np.array([d['rewards'][a] for d in data])\n",
    "        collated_data['terminations'][a] = np.array([d['terminations'][a] for d in data])\n",
    "        collated_data['truncations'][a] = np.array([d['truncations'][a] for d in data])\n",
    "    collated_data['rollout_index'] = np.array([d['rollout_index'] for d in data])\n",
    "    collated_data['transition_index'] = np.array([d['transition_index'] for d in data])\n",
    "    return collated_data"
   ]
  },
  {
   "cell_type": "markdown",
   "id": "27ba666d-1bb6-41f4-9066-1b0d0c7041be",
   "metadata": {},
   "source": [
    "# Создаем пример dataloader\n",
    "\n",
    "Он понадобится для демонстрации размерностей основных данных"
   ]
  },
  {
   "cell_type": "code",
   "execution_count": 8,
   "id": "1263534a-188c-45c9-ba39-7e1cf7b2cb28",
   "metadata": {},
   "outputs": [],
   "source": [
    "example_buffer = ReplayBuffer(100000)\n",
    "example_buffer.add_batch(example_batch)\n",
    "\n",
    "example_dataloader = DataLoader(\n",
    "    dataset=example_buffer,\n",
    "    batch_size=32,\n",
    "    num_workers=0,\n",
    "    collate_fn=collate_fn,\n",
    "    shuffle=True,\n",
    ")"
   ]
  },
  {
   "cell_type": "code",
   "execution_count": 9,
   "id": "3d76ed4c-03f5-416a-9b2d-91aca776efcb",
   "metadata": {},
   "outputs": [
    {
     "name": "stdout",
     "output_type": "stream",
     "text": [
      "Image observation shape: (32, 60, 60, 3)\n",
      "Proprio observation shape: (32, 7)\n",
      "Actions shape: (32,)\n",
      "Rewards shape: (32,)\n",
      "Terminations shape: (32,)\n"
     ]
    }
   ],
   "source": [
    "sample = next(iter(example_dataloader))\n",
    "\n",
    "print(f\"Image observation shape: {sample['observations']['agent_0']['image'].shape}\")\n",
    "print(f\"Proprio observation shape: {sample['observations']['agent_0']['proprio'].shape}\")\n",
    "print(f\"Actions shape: {sample['actions']['agent_0'].shape}\")\n",
    "print(f\"Rewards shape: {sample['rewards']['agent_0'].shape}\")\n",
    "print(f\"Terminations shape: {sample['terminations']['agent_0'].shape}\")"
   ]
  },
  {
   "cell_type": "markdown",
   "id": "edbff7bd-412f-4283-b2af-d3d3306f0785",
   "metadata": {},
   "source": [
    "# Сетка критик\n",
    "\n",
    "Параграф ниже реализует сеть-критик, которая принимает на вход композитное визуально-проприоцептивное наблюдение и аппроксимирует Q-значения для каждого возможного действия."
   ]
  },
  {
   "cell_type": "code",
   "execution_count": 10,
   "id": "3bdee40d-a290-4d47-ac44-d1a3bb65ad18",
   "metadata": {},
   "outputs": [
    {
     "name": "stdout",
     "output_type": "stream",
     "text": [
      "Writing submission_vdn/utils/networks.py\n"
     ]
    }
   ],
   "source": [
    "%%writefile submission_vdn/utils/networks.py\n",
    "import torch\n",
    "from torch import nn\n",
    "\n",
    "\n",
    "class QCNN(nn.Module):\n",
    "\n",
    "    def __init__(self, in_channels, acs_dim):\n",
    "        super(QCNN, self).__init__()\n",
    "        self.cnn = nn.Sequential(\n",
    "            nn.Conv2d(in_channels=in_channels, out_channels=48, kernel_size=8, stride=4),\n",
    "            nn.ReLU(),\n",
    "            nn.Conv2d(in_channels=48, out_channels=64, kernel_size=4, stride=2),\n",
    "            nn.ReLU(),\n",
    "            nn.Conv2d(in_channels=64, out_channels=96, kernel_size=3, stride=1),\n",
    "            nn.ReLU(),\n",
    "            nn.Flatten(),\n",
    "        )\n",
    "        self.mlp = nn.Sequential(\n",
    "            nn.Linear(7, 64),\n",
    "            nn.ReLU(),\n",
    "        )\n",
    "        self.head = nn.Sequential(\n",
    "            nn.Linear(1600, 512),\n",
    "            nn.ReLU(),\n",
    "            nn.LayerNorm(512),\n",
    "            nn.Linear(512, acs_dim),\n",
    "        )\n",
    "\n",
    "    def forward(self, image: torch.Tensor, proprio: torch.Tensor) -> torch.Tensor:\n",
    "        # Image stream\n",
    "        bs, h, w, c = image.shape\n",
    "        image = image.permute(0, 3, 1, 2)\n",
    "        image = image / 255.\n",
    "        image_repr = self.cnn(image)\n",
    "        # Proprio stream\n",
    "        proprio_repr = self.mlp(proprio)\n",
    "        # Head\n",
    "        hidden = torch.cat([image_repr, proprio_repr], 1)\n",
    "        q_vals = self.head(hidden)\n",
    "        return q_vals\n"
   ]
  },
  {
   "cell_type": "markdown",
   "id": "0b490e60-955d-4f87-a018-57d0f5007a84",
   "metadata": {},
   "source": [
    "# Создаем VDN агента\n",
    "\n",
    "Ниже определим класс VDN агента, стоит отметить. что:\n",
    "\n",
    "Класс агента должен поддерживать следующие методы:\n",
    "- `.load()` - подгрузка агента из директории\n",
    "- `.get_action()` - получение действия из композитного наблюдения\n",
    "- `.reset_state()` - перезагрузка внутреннего состояния агента с началом эпизода\n",
    "\n",
    "Класс агента должен быть отнаследован от абстрактного класса `aij_multiagent_rl.agent.BaseAgent`\n",
    "\n",
    "Файл `model.py` должен содержать фабричный метод агента как показано ниже"
   ]
  },
  {
   "cell_type": "code",
   "execution_count": 11,
   "id": "2e27ab2c-2b35-43f7-90dc-31a09666578c",
   "metadata": {},
   "outputs": [
    {
     "name": "stdout",
     "output_type": "stream",
     "text": [
      "Writing submission_vdn/model.py\n"
     ]
    }
   ],
   "source": [
    "%%writefile submission_vdn/model.py\n",
    "import os\n",
    "from copy import deepcopy\n",
    "from typing import Dict\n",
    "\n",
    "import numpy as np\n",
    "import torch\n",
    "from aij_multiagent_rl.agents import BaseAgent\n",
    "from omegaconf import DictConfig\n",
    "from torch import nn\n",
    "from utils.networks import QCNN\n",
    "from utils.utils import from_numpy, get_device, to_numpy\n",
    "\n",
    "\n",
    "class DQNAgent(BaseAgent, nn.Module):\n",
    "    def __init__(\n",
    "        self,\n",
    "        model,\n",
    "        device,\n",
    "        eval_mode,\n",
    "        warmup_steps=20000,\n",
    "        eps_start=0.2,\n",
    "        eps_decay=0.995,\n",
    "        eps_decay_every=5000,\n",
    "        acs_dim=9,\n",
    "        seed=None\n",
    "    ):\n",
    "        super(DQNAgent, self).__init__()\n",
    "        self.device = device\n",
    "        self.warmup_steps = warmup_steps\n",
    "        self.eval_mode = eval_mode\n",
    "        self.steps_made = 0\n",
    "        self.n_target_updates = 0\n",
    "        self.current_eps = eps_start\n",
    "        self.eps_start = eps_start\n",
    "        self.eps_decay = eps_decay\n",
    "        self.eps_decay_every = eps_decay_every\n",
    "        self.acs_dim = acs_dim\n",
    "        self.model = model.to(device)\n",
    "        self.target_model = deepcopy(self.model)\n",
    "        self.target_model.to(device)\n",
    "        if seed is None:\n",
    "            seed = np.random.randint(0, int(1e6), 1)\n",
    "        self.rng = np.random.default_rng(seed)\n",
    "\n",
    "    def reset_state(self) -> None:\n",
    "        pass\n",
    "\n",
    "    def load(self, ckpt_dir: str) -> None:\n",
    "        self.load_state_dict(\n",
    "            torch.load(\n",
    "                os.path.join(ckpt_dir, \"module.pth\"),\n",
    "                map_location=get_device()\n",
    "            )\n",
    "        )\n",
    "\n",
    "    def save(self, ckpt_dir: str) -> None:\n",
    "        torch.save(self.state_dict(), os.path.join(ckpt_dir, 'module.pth'))\n",
    "\n",
    "    def _eps(self):\n",
    "        if self.steps_made < self.warmup_steps:\n",
    "            return 1.\n",
    "        else:\n",
    "            if self.steps_made % self.eps_decay_every == 0:\n",
    "                self.current_eps *= self.eps_decay\n",
    "            return self.current_eps\n",
    "\n",
    "    def _get_action(self, observation: Dict[str, np.ndarray]) -> int:\n",
    "        image = from_numpy(self.device, np.expand_dims(observation['image'], 0))\n",
    "        proprio = from_numpy(self.device, np.expand_dims(observation['proprio'], 0))\n",
    "        qvals = self.model.forward(image=image, proprio=proprio)\n",
    "        qvals = to_numpy(qvals)\n",
    "        return np.argmax(qvals)\n",
    "\n",
    "    def update_target_network(self, tau: float) -> None:\n",
    "        self.n_target_updates += 1\n",
    "        for target_param, param in zip(\n",
    "                self.target_model.parameters(), self.model.parameters()\n",
    "        ):\n",
    "            target_param.data.copy_(tau * param.data + (1 - tau) * target_param.data)\n",
    "\n",
    "    def forward(self, image: torch.Tensor, proprio: torch.Tensor) -> torch.Tensor:\n",
    "        return self.model.forward(image, proprio)\n",
    "\n",
    "    @torch.no_grad()\n",
    "    def forward_target(self, image: torch.Tensor, proprio: torch.Tensor) -> torch.Tensor:\n",
    "        return self.target_model.forward(image, proprio)\n",
    "\n",
    "    def get_action(self, observation: Dict[str, np.ndarray]) -> int:\n",
    "        if not self.eval_mode:\n",
    "            self.steps_made += 1\n",
    "        eps = self._eps()\n",
    "        u = self.rng.uniform(0, 1, 1).item()\n",
    "        if u < eps:\n",
    "            acs = self.rng.integers(0, self.acs_dim, 1).item()\n",
    "        else:\n",
    "            acs = self._get_action(observation=observation)\n",
    "        return acs\n",
    "\n",
    "\n",
    "def get_agent(config: DictConfig) -> BaseAgent:\n",
    "    agent = DQNAgent(\n",
    "        device=get_device(),\n",
    "        model=QCNN(in_channels=config.in_channels, acs_dim=config.acs_dim),\n",
    "        eval_mode=config.eval_mode,\n",
    "        warmup_steps=config.warmup_steps,\n",
    "        eps_start=config.eps_start,\n",
    "        eps_decay=config.eps_decay,\n",
    "        eps_decay_every=config.eps_decay_every,\n",
    "        acs_dim=config.acs_dim,\n",
    "        seed=config.seed\n",
    "    )\n",
    "    agent.steps_made = config.ckpt_steps_made\n",
    "    agent.current_eps = config.ckpt_eps\n",
    "    return agent\n"
   ]
  },
  {
   "cell_type": "markdown",
   "id": "4e9899b5-09c2-4c28-a586-3b2cd4471ff3",
   "metadata": {},
   "source": [
    "# Импортируем необходимые модули\n",
    "\n",
    "Примечание: как можно видеть ниже, директория с вашими файлами решения будет использована как точка входа для импорта фабричного метода `get_agent`."
   ]
  },
  {
   "cell_type": "code",
   "execution_count": 12,
   "id": "2bc7310a-8cad-4a83-92f4-2da3f1337d3e",
   "metadata": {},
   "outputs": [],
   "source": [
    "import sys\n",
    "sys.path.insert(1, submission_dir)\n",
    "from model import DQNAgent, get_agent\n",
    "from utils.utils import get_device, from_numpy\n",
    "from utils.networks import QCNN"
   ]
  },
  {
   "cell_type": "markdown",
   "id": "63b9e84b-c086-4ddd-8f40-71b1871804ad",
   "metadata": {},
   "source": [
    "# Определим VDN Trainer\n",
    "\n",
    "Основная логика обновления весов алгоритма VDN реализована в методе `update()`"
   ]
  },
  {
   "cell_type": "code",
   "execution_count": 13,
   "id": "3e334a8a-d26b-4820-a08d-ca02d5ac6d7a",
   "metadata": {},
   "outputs": [],
   "source": [
    "class VDNTrainer(nn.Module):\n",
    "    def __init__(\n",
    "        self,\n",
    "        agents: Dict[str, DQNAgent],\n",
    "        learning_rate: float,\n",
    "        gamma: float = 0.99,\n",
    "        td_criterion=F.smooth_l1_loss,\n",
    "        tau: float = 0.005\n",
    "    ):\n",
    "        super(VDNTrainer, self).__init__()\n",
    "        self.learning_rate = learning_rate\n",
    "        self.gamma = gamma\n",
    "        self.td_criterion = td_criterion\n",
    "        self.tau = tau\n",
    "        self.n_updates = 0\n",
    "        self.last_logs = {}\n",
    "\n",
    "        # Set agents\n",
    "        self.agents = nn.ModuleDict(agents)\n",
    "        self.devices = {n: a.device for n, a in self.agents.items()}\n",
    "\n",
    "        # Define optimizer\n",
    "        self.optimizer = optim.Adam(\n",
    "            params=(self._get_params()),\n",
    "            lr=self.learning_rate\n",
    "        )\n",
    "\n",
    "    def _get_params(self):\n",
    "        params = []\n",
    "        ids = []\n",
    "        for a in self.agents.values():\n",
    "            model_id = id(a.model)\n",
    "            if model_id not in ids:\n",
    "                params.extend(list(a.model.parameters()))\n",
    "                ids.append(model_id)\n",
    "        return params\n",
    "\n",
    "    def update_target_networks(self) -> None:\n",
    "        for a in self.agents.values():\n",
    "            a.update_target_network(tau=self.tau)\n",
    "\n",
    "    def forward(\n",
    "        self,\n",
    "        images: Dict[str, torch.Tensor],\n",
    "        proprio: Dict[str, torch.Tensor],\n",
    "    ) -> Dict[str, torch.Tensor]:\n",
    "        output = {}\n",
    "        for name, agent in self.agents.items():\n",
    "            qvals = agent.forward(images[name], proprio[name])\n",
    "            output[name] = qvals\n",
    "        return output\n",
    "\n",
    "    @torch.no_grad()\n",
    "    def forward_target(\n",
    "        self,\n",
    "        images: Dict[str, torch.Tensor],\n",
    "        proprio: Dict[str, torch.Tensor],\n",
    "    ) -> Dict[str, torch.Tensor]:\n",
    "        output = {}\n",
    "        for name, agent in self.agents.items():\n",
    "            qvals = agent.forward_target(images[name], proprio[name])\n",
    "            output[name] = qvals\n",
    "        return output\n",
    "\n",
    "    def save(self, dir: str, config: dict) -> None:\n",
    "        for name, agent in self.agents.items():\n",
    "            agent_dir = os.path.join(dir, name)\n",
    "            if not os.path.exists(agent_dir):\n",
    "                os.makedirs(agent_dir)\n",
    "            agent.save(ckpt_dir=agent_dir)\n",
    "            with open(os.path.join(agent_dir, 'agent_config.yaml'), 'w') as outfile:\n",
    "                yaml.dump(config, outfile, default_flow_style=False)\n",
    "\n",
    "    def update(self, sample: Dict[str, Any]) -> Dict[str, float]:\n",
    "\n",
    "        # Get device\n",
    "        devs = self.devices\n",
    "\n",
    "        # Unpack data\n",
    "        obs_image = {k: from_numpy(devs[k], v['image']) \n",
    "                     for k, v in sample['observations'].items()}\n",
    "        next_obs_image = {k: from_numpy(devs[k], v['image']) \n",
    "                          for k, v in sample['next_observations'].items()}\n",
    "        obs_proprio = {k: from_numpy(devs[k], v['proprio']) \n",
    "                       for k, v in sample['observations'].items()}\n",
    "        next_obs_proprio = {k: from_numpy(devs[k], v['proprio']) \n",
    "                            for k, v in sample['next_observations'].items()}\n",
    "        actions = {k: from_numpy(devs[k], v) for k, v in sample['actions'].items()}\n",
    "        rewards = {k: from_numpy(devs[k], v) / 10. for k, v in sample['rewards'].items()}\n",
    "        terminations = {k: from_numpy(devs[k], v) for k, v in sample['terminations'].items()}\n",
    "\n",
    "        shared_rewards = torch.cat([r.unsqueeze(-1) for r in rewards.values()], axis=-1)\n",
    "        shared_rewards = shared_rewards.sum(dim=-1, keepdims=True)\n",
    "\n",
    "        # construct target q-values\n",
    "        qa_tp1_target = self.forward_target(next_obs_image, next_obs_proprio)\n",
    "        with torch.no_grad():\n",
    "            qa_tp1_model = self.forward(next_obs_image, next_obs_proprio)\n",
    "\n",
    "        # Select maximum value by agent and sum\n",
    "        q_tp1 = []\n",
    "        for name, qa_tp1_t_a in qa_tp1_target.items():\n",
    "            qa_tp1_m_a = qa_tp1_model[name]\n",
    "            q_tp1_a = torch.gather(qa_tp1_t_a, 1,\n",
    "                                   qa_tp1_m_a.argmax(dim=1, keepdims=True))\n",
    "            term = terminations[name].unsqueeze(1)\n",
    "            q_tp1_a = q_tp1_a * torch.logical_not(term)\n",
    "            q_tp1.append(q_tp1_a)\n",
    "        q_tp1 = torch.cat(q_tp1, axis=-1).sum(dim=-1, keepdims=True)\n",
    "\n",
    "        # Create targets\n",
    "        q_targets = shared_rewards + self.gamma * q_tp1\n",
    "\n",
    "        # Calculate outputs\n",
    "        qa_t = self.forward(obs_image, obs_proprio)\n",
    "\n",
    "        # Select qvalue by action\n",
    "        q_t = []\n",
    "        for name, qa_t_a in qa_t.items():\n",
    "            acs_a = actions[name]\n",
    "            q_t_a = torch.gather(qa_t_a, 1,\n",
    "                                 acs_a.to(torch.long).unsqueeze(1))\n",
    "            q_t.append(q_t_a)\n",
    "        q_t = torch.cat(q_t, axis=-1).sum(dim=-1, keepdims=True)\n",
    "\n",
    "        # compute loss\n",
    "        loss = self.td_criterion(q_t, q_targets)\n",
    "\n",
    "        # performing gradient step\n",
    "        self.optimizer.zero_grad()\n",
    "        loss.backward()\n",
    "        self.optimizer.step()\n",
    "        self.n_updates += 1\n",
    "\n",
    "        return {\n",
    "            'dqn_loss': loss.item(),\n",
    "            'mean_q_value': q_t.mean().item(),\n",
    "            'n_updates': self.n_updates,\n",
    "            'mean_shared_reward': shared_rewards.mean().item(),\n",
    "            'mean_agents_steps': np.mean([a.steps_made for a in self.agents.values()]).item(),\n",
    "            'mean_target_updates': np.mean([a.n_target_updates for a in self.agents.values()]).item(),\n",
    "            'mean_eps': np.mean([a.current_eps for a in self.agents.values()]).item()\n",
    "        }"
   ]
  },
  {
   "cell_type": "markdown",
   "id": "b994b247-dede-4e71-9060-19391ba6c81e",
   "metadata": {},
   "source": [
    "# Подготовим процесс обучения"
   ]
  },
  {
   "cell_type": "code",
   "execution_count": 14,
   "id": "1cb743eb-4098-4b08-8358-2085ceec4e4d",
   "metadata": {},
   "outputs": [],
   "source": [
    "config = DictConfig({\n",
    "    'warmup_steps': 20000,\n",
    "    'eps_start': 0.2,\n",
    "    'eps_decay': 0.996,\n",
    "    'eps_decay_every': 1000,\n",
    "    'acs_dim': 9,\n",
    "    'batch_size': 32,\n",
    "    'update_every': 4,\n",
    "    'buffer_size': 100000,\n",
    "    'initial_batch_episodes': 20,\n",
    "    'learning_rate': 0.00005,\n",
    "    'gamma': 0.99,\n",
    "    'target_updates_freq': 15,\n",
    "    'episodes_per_iter': 2,\n",
    "    'iter_per_save': 50,\n",
    "    'n_iters': 310,\n",
    "    'tau': 0.005,\n",
    "    'output_dir': f'{submission_dir}/agents',\n",
    "    'in_channels': 3\n",
    "})"
   ]
  },
  {
   "cell_type": "markdown",
   "id": "8aa823cd-50f8-4a66-a117-4f698db9caf7",
   "metadata": {},
   "source": [
    "# Инициализация симулятора и буфера данных"
   ]
  },
  {
   "cell_type": "code",
   "execution_count": 15,
   "id": "b0ce7ff9-0dd9-4a42-8e86-5d2b6207d672",
   "metadata": {},
   "outputs": [],
   "source": [
    "env = AijMultiagentEnv()\n",
    "buffer = ReplayBuffer(config.buffer_size)"
   ]
  },
  {
   "cell_type": "markdown",
   "id": "1031ec3d-667b-4ca6-b247-5c06915d8a60",
   "metadata": {},
   "source": [
    "# Инициализация VDN trainer\n",
    "\n",
    "Стоит отметить, что все агенты делят веса сетки критика, такая архитектура улучшает сходимость алгоритма и сокращает количество обучаемых параметров."
   ]
  },
  {
   "cell_type": "code",
   "execution_count": 16,
   "id": "0d19caab-addf-4270-a738-dca76c3255b8",
   "metadata": {},
   "outputs": [],
   "source": [
    "device = get_device()\n",
    "\n",
    "model = QCNN(in_channels=config.in_channels, acs_dim=config.acs_dim)\n",
    "\n",
    "agents = {a: DQNAgent(\n",
    "    device=device,\n",
    "    model=model,\n",
    "    eval_mode=False,\n",
    "    warmup_steps=config.warmup_steps,\n",
    "    eps_start=config.eps_start,\n",
    "    eps_decay=config.eps_decay,\n",
    "    eps_decay_every=config.eps_decay_every,\n",
    "    acs_dim=config.acs_dim\n",
    ") for a in env.possible_agents}\n",
    "\n",
    "trainer = VDNTrainer(\n",
    "    agents=agents,\n",
    "    learning_rate=config.learning_rate,\n",
    "    gamma=config.gamma,\n",
    "    tau=config.tau\n",
    ")"
   ]
  },
  {
   "cell_type": "markdown",
   "id": "e483b6e9-ba20-4362-887a-418620814628",
   "metadata": {},
   "source": [
    "# Заполняем буфер изначальными рандомизированными данными"
   ]
  },
  {
   "cell_type": "code",
   "execution_count": 17,
   "id": "767cd259-a29f-4d27-8d3d-779a68ee4dce",
   "metadata": {},
   "outputs": [
    {
     "name": "stderr",
     "output_type": "stream",
     "text": [
      "100%|███████████████████████████████████████████| 20/20 [00:51<00:00,  2.60s/it]"
     ]
    },
    {
     "name": "stdout",
     "output_type": "stream",
     "text": [
      "Initial Buffer Size: 20000\n"
     ]
    },
    {
     "name": "stderr",
     "output_type": "stream",
     "text": [
      "\n"
     ]
    }
   ],
   "source": [
    "initial_batch = sample_rollouts(\n",
    "    n_rollouts=config.initial_batch_episodes, env=env, agents=trainer.agents, verbose=True\n",
    ")\n",
    "buffer.add_batch(initial_batch)\n",
    "dataloader = DataLoader(\n",
    "    dataset=buffer,\n",
    "    batch_size=config.batch_size,\n",
    "    num_workers=0,\n",
    "    collate_fn=collate_fn,\n",
    "    shuffle=True,\n",
    ")\n",
    "print(f'Initial Buffer Size: {len(buffer)}')"
   ]
  },
  {
   "cell_type": "markdown",
   "id": "5841d878-0204-470b-9045-27fd6e95eb2b",
   "metadata": {},
   "source": [
    "# Запускаем обучение"
   ]
  },
  {
   "cell_type": "code",
   "execution_count": 18,
   "id": "c2f627ad-6323-4de5-a3e4-305a630a5697",
   "metadata": {},
   "outputs": [
    {
     "name": "stderr",
     "output_type": "stream",
     "text": [
      "100%|███████████████████████████████████████| 310/310 [3:01:09<00:00, 35.06s/it]\n"
     ]
    }
   ],
   "source": [
    "training_logs = []\n",
    "\n",
    "\n",
    "for it in tqdm(range(config.n_iters)):\n",
    "\n",
    "    # Sample batch\n",
    "    batch = sample_rollouts(env=env, agents=trainer.agents,\n",
    "                            n_rollouts=config.episodes_per_iter, verbose=False)\n",
    "    batch_size = sum([len(e) for e in batch])\n",
    "\n",
    "    # Add to buffer\n",
    "    buffer.add_batch(rollouts=batch)\n",
    "    data_iter = iter(dataloader)\n",
    "\n",
    "    # Launch update loop\n",
    "    iter_n_updates = max(1, batch_size // config.update_every)\n",
    "    iter_logs = []\n",
    "    \n",
    "    for _ in range(iter_n_updates):\n",
    "        try:\n",
    "            sample = next(data_iter)\n",
    "        except StopIteration:\n",
    "            data_iter = iter(dataloader)\n",
    "            sample = next(data_iter)\n",
    "        logs = trainer.update(sample)\n",
    "        if trainer.n_updates % config.target_updates_freq == 0:\n",
    "            trainer.update_target_networks()\n",
    "        iter_logs.append(logs)\n",
    "\n",
    "    # Collect Logs\n",
    "    mean_agent_reward = get_mean_agent_return(batch)\n",
    "    mean_episode_length = batch_size / config.episodes_per_iter\n",
    "    iter_logs = {\n",
    "        'mean_agent_reward': mean_agent_reward,\n",
    "        'mean_episode_length': mean_episode_length,\n",
    "        'batch_size': batch_size,\n",
    "        'iter_n_updates': iter_n_updates,\n",
    "        'buffer_size_transitions': len(buffer),\n",
    "        'buffer_size_episodes': len(buffer.rollouts),\n",
    "        **{k: np.mean([l[k] for l in iter_logs]) for k in iter_logs[0].keys()},\n",
    "    }\n",
    "    training_logs.append(iter_logs)\n",
    "\n",
    "    # Write artifacts\n",
    "    if it > 0 and it % config.iter_per_save == 0:\n",
    "        ckpt_steps_made = min([a.steps_made for a in trainer.agents.values()])\n",
    "        ckpt_eps = min([a.current_eps for a in trainer.agents.values()])\n",
    "        save_config = {\n",
    "            **config,\n",
    "            'eval_mode': True,\n",
    "            'ckpt_steps_made': ckpt_steps_made,\n",
    "            'ckpt_eps': ckpt_eps,\n",
    "            'seed': 42\n",
    "        }\n",
    "        trainer.save(dir=config.output_dir, config=save_config)"
   ]
  },
  {
   "cell_type": "markdown",
   "id": "b1df11a9-a86d-46ae-b704-0ec9b7f82e07",
   "metadata": {},
   "source": [
    "# Визуализация логов обучения\n",
    "\n",
    "Необходимо отметить, что в данном случае средняя награда обучаемых агентов `Mean Agent Reward` не обязательно должна совпадать с целевой метрикой `Mean Focal Score`, вычисляемой тестовой системой. Основная причина заключается в том, что на фазе обучения агенты играют с симметричными агентами, тогда как в тестовой системе симуляции проводятся совместно с различными ботами со скрытыми от Участников стратегиями."
   ]
  },
  {
   "cell_type": "code",
   "execution_count": 19,
   "id": "9c7111ca-80db-4554-8485-7590befcabfa",
   "metadata": {},
   "outputs": [
    {
     "data": {
      "image/png": "[encoded data removed]",
      "text/plain": [
       "<Figure size 1000x1000 with 15 Axes>"
      ]
     },
     "metadata": {},
     "output_type": "display_data"
    }
   ],
   "source": [
    "ncols = 3\n",
    "n_graphs = len(training_logs[-1].keys())\n",
    "nrows = ceil(n_graphs / ncols)\n",
    "\n",
    "fig, axs = plt.subplots(nrows, ncols, figsize=(10, 10))\n",
    "for i, key in enumerate(training_logs[-1].keys()):\n",
    "    axs[i // ncols, i % ncols].plot(\n",
    "        [tl[key] for tl in training_logs]\n",
    "    )\n",
    "    axs[i // ncols, i % ncols].set_title(key)\n",
    "\n",
    "for ax in axs.flat:\n",
    "    ax.set(xlabel='Training Step', ylabel='Value')\n",
    "\n",
    "for ax in axs.flat:\n",
    "    ax.label_outer()"
   ]
  }
 ],
 "metadata": {
  "kernelspec": {
   "display_name": "Python AIJ MARL",
   "language": "python",
   "name": "aij_multiagent_ai"
  },
  "language_info": {
   "codemirror_mode": {
    "name": "ipython",
    "version": 3
   },
   "file_extension": ".py",
   "mimetype": "text/x-python",
   "name": "python",
   "nbconvert_exporter": "python",
   "pygments_lexer": "ipython3",
   "version": "3.11.9"
  }
 },
 "nbformat": 4,
 "nbformat_minor": 5
}
